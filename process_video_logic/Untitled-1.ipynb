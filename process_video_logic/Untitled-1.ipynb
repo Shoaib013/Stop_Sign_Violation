{
 "cells": [
  {
   "cell_type": "code",
   "execution_count": 8,
   "id": "3d5e9d82",
   "metadata": {},
   "outputs": [],
   "source": [
    "import json\n",
    "import os\n",
    "import sys\n",
    "from datetime import datetime"
   ]
  },
  {
   "cell_type": "code",
   "execution_count": null,
   "id": "a16b1818",
   "metadata": {},
   "outputs": [],
   "source": [
    "def extract_speed_from_json(json_path):\n",
    "    with open(json_path, 'r') as f:\n",
    "        data = json.load(f)\n",
    "    try:\n",
    "        speed_array = []\n",
    "        for i in range(len(data[0]['dpe'])):\n",
    "            if data[0]['dpe'][i]['type'] == 13:\n",
    "                # print(\"Found DPE with type 13\")\n",
    "                try:\n",
    "                    start_time = datetime.strptime(data[0]['dpe'][i]['start_time'], \"%Y-%m-%dT%H:%M:%S.%fZ\")\n",
    "                except ValueError:\n",
    "                    start_time = datetime.strptime(data[0]['dpe'][i]['start_time'], \"%Y-%m-%dT%H:%M:%SZ\")\n",
    "                try:\n",
    "                    end_time = datetime.strptime(data[0]['dpe'][i]['end_time'], \"%Y-%m-%dT%H:%M:%S.%fZ\")\n",
    "                except ValueError:\n",
    "                    end_time = datetime.strptime(data[0]['dpe'][i]['end_time'], \"%Y-%m-%dT%H:%M:%SZ\")\n",
    "                # print(\"Start time:\", start_time)\n",
    "                # print(\"End time:\", end_time)\n",
    "        samples = data[0]['samples']\n",
    "        \n",
    "        for sample in samples:\n",
    "            try:\n",
    "               frame_time = datetime.strptime(sample['perception_engine']['time'], \"%Y-%m-%dT%H:%M:%S.%fZ\")\n",
    "            except ValueError:\n",
    "                try:\n",
    "                    frame_time = datetime.strptime(sample['perception_engine']['time'], \"%Y-%m-%dT%H:%M:%SZ\")\n",
    "                except KeyError:\n",
    "                        print(f\"Missing 'time' key in sample: {sample}\")\n",
    "            if start_time <= frame_time <= end_time:\n",
    "                speed_array.append(sample['ae_frame_data']['processed_speed_kph'])\n",
    "        \n",
    "    except (IndexError, KeyError):\n",
    "        raise ValueError(\"Invalid JSON structure. Ensure 'samples' exists in the JSON file.\")\n",
    "    return speed_array\n",
    "    # speed_array = []\n",
    "    # for sample in samples:  # Iterate over the list\n",
    "    #     speed_array.append(sample[\"speed_kph\"])\n",
    "    # return speed_array"
   ]
  },
  {
   "cell_type": "code",
   "execution_count": 19,
   "id": "beedf087",
   "metadata": {},
   "outputs": [
    {
     "name": "stdout",
     "output_type": "stream",
     "text": [
      "Found DPE with type 13\n",
      "Start time: 2025-04-24 12:10:55.132000\n",
      "End time: 2025-04-24 12:11:08.479000\n"
     ]
    },
    {
     "data": {
      "text/plain": [
       "[22.818226,\n",
       " 22.56557,\n",
       " 22.062609,\n",
       " 21.496925,\n",
       " 20.930267,\n",
       " 20.428175,\n",
       " 20.0606,\n",
       " 19.818201,\n",
       " 19.715887,\n",
       " 19.748274,\n",
       " 19.86704,\n",
       " 20.015097,\n",
       " 20.121893,\n",
       " 20.278193,\n",
       " 20.528982,\n",
       " 20.804602,\n",
       " 21.088358,\n",
       " 21.390402,\n",
       " 21.658121,\n",
       " 21.81531,\n",
       " 21.882544,\n",
       " 21.858454,\n",
       " 21.781557,\n",
       " 21.65151,\n",
       " 21.49164,\n",
       " 21.353811,\n",
       " 21.215178,\n",
       " 21.067177]"
      ]
     },
     "execution_count": 19,
     "metadata": {},
     "output_type": "execute_result"
    }
   ],
   "source": [
    "json_path = '/home/shoaibkhan/Desktop/SSV_Model_Testing_Videos_JSONs/jsons/1a162bb6-7d6e-4941-9535-ce22450d8366.json'\n",
    "extract_speed_from_json(json_path)"
   ]
  },
  {
   "cell_type": "code",
   "execution_count": 5,
   "id": "4b3a3322",
   "metadata": {},
   "outputs": [],
   "source": [
    "\n",
    "def extract_heading_from_json(json_path):\n",
    "    with open(json_path,'r') as f:\n",
    "        data = json.load(f)\n",
    "    samples = data[0]['data']['telematic']['gnss']['samples']\n",
    "    return [sample['heading_deg'] for sample in samples]"
   ]
  },
  {
   "cell_type": "code",
   "execution_count": 7,
   "id": "23ee8854",
   "metadata": {},
   "outputs": [],
   "source": [
    "a = extract_heading_from_json(json_path)"
   ]
  },
  {
   "cell_type": "code",
   "execution_count": 9,
   "id": "06943dff",
   "metadata": {},
   "outputs": [
    {
     "name": "stdout",
     "output_type": "stream",
     "text": [
      "<class 'list'>\n"
     ]
    }
   ],
   "source": [
    "print(type(a))"
   ]
  },
  {
   "cell_type": "code",
   "execution_count": null,
   "id": "b48af92e",
   "metadata": {},
   "outputs": [],
   "source": [
    "def extract_heading_from_json_(json_path):\n",
    "    with open(json_path,'r') as f:\n",
    "        data = json.load(f)\n",
    "    samples = data[0]['data']['telematic']['gnss']['samples']\n",
    "    return [sample['heading_deg'] for sample in samples]"
   ]
  }
 ],
 "metadata": {
  "kernelspec": {
   "display_name": "tf_env",
   "language": "python",
   "name": "python3"
  },
  "language_info": {
   "codemirror_mode": {
    "name": "ipython",
    "version": 3
   },
   "file_extension": ".py",
   "mimetype": "text/x-python",
   "name": "python",
   "nbconvert_exporter": "python",
   "pygments_lexer": "ipython3",
   "version": "3.10.13"
  }
 },
 "nbformat": 4,
 "nbformat_minor": 5
}
